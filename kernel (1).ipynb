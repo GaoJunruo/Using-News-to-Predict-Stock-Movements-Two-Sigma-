{
  "cells": [
    {
      "metadata": {
        "_uuid": "8f2839f25d086af736a60e9eeb907d3b93b6e0e5",
        "_cell_guid": "b1076dfc-b9ad-4769-8c92-a6c4dae69d19",
        "trusted": true
      },
      "cell_type": "markdown",
      "source": "import pandas as pd\nimport numpy as np\nfrom sklearn import *\nfrom kaggle.competitions import twosigmanews\nenv = twosigmanews.make_env()\n(market_train, news_train) = env.get_training_data()"
    },
    {
      "metadata": {
        "trusted": true,
        "_uuid": "2ca308f612d6a55a75a63ca5de70edd1ecc00f91"
      },
      "cell_type": "markdown",
      "source": "def data_prep(market_train,news_train):\n    market_train.time = market_train.time.dt.date\n    news_train.time = news_train.time.dt.hour\n    news_train.sourceTimestamp= news_train.sourceTimestamp.dt.hour\n    news_train.firstCreated = news_train.firstCreated.dt.date\n    news_train['assetCodesLen'] = news_train['assetCodes'].map(lambda x: len(eval(x)))\n    news_train['assetCodes'] = news_train['assetCodes'].map(lambda x: list(eval(x))[0])\n    kcol = ['firstCreated', 'assetCodes']\n    news_train = news_train.groupby(kcol, as_index=False).mean()\n    market_train = pd.merge(market_train, news_train, how='left', left_on=['time', 'assetCode'], \n                            right_on=['firstCreated', 'assetCodes'])\n    lbl = {k: v for v, k in enumerate(market_train['assetCode'].unique())}\n    market_train['assetCodeT'] = market_train['assetCode'].map(lbl)\n    \n    \n    market_train = market_train.dropna(axis=0)\n    \n    return market_train"
    },
    {
      "metadata": {
        "trusted": true,
        "_uuid": "59bd2649bc0f644f2d26a9dfd4908bf9dfab5c27"
      },
      "cell_type": "markdown",
      "source": "market_train = data_prep(market_train,news_train)"
    },
    {
      "metadata": {
        "trusted": true,
        "_uuid": "76fd94588c636b47502a8bb42c6d148a33ff893a"
      },
      "cell_type": "markdown",
      "source": "# The target is binary\nup = market_train.returnsOpenNextMktres10 >= 0"
    },
    {
      "metadata": {
        "_cell_guid": "79c7e3d0-c299-4dcb-8224-4455121ee9b0",
        "_uuid": "d629ff2d2480ee46fbb7e2d37f6b5fab8052498a",
        "trusted": true
      },
      "cell_type": "markdown",
      "source": "fcol = [c for c in market_train if c not in ['assetCode', 'assetCodes', 'assetCodesLen', 'assetName', 'audiences', \n                                             'firstCreated', 'headline', 'headlineTag', 'marketCommentary', 'provider', \n                                             'returnsOpenNextMktres10', 'sourceId', 'subjects', 'time', 'time_x', 'universe','sourceTimestamp']]"
    },
    {
      "metadata": {
        "trusted": true,
        "_uuid": "23dc23025ca00227aea1c4f2cb596e0a65e431e2"
      },
      "cell_type": "markdown",
      "source": "# We still need the returns for model tuning\nX = market_train[fcol].values\nup = up.values\nr = market_train.returnsOpenNextMktres10.values"
    },
    {
      "metadata": {
        "trusted": true,
        "_uuid": "f7637f5d109998c95cd40e8222fb5501e47db9ba"
      },
      "cell_type": "markdown",
      "source": "# Scaling of X values\n# It is good to keep these scaling values for later\nmins = np.min(X, axis=0)\nmaxs = np.max(X, axis=0)\nrng = maxs - mins\nX = 1 - ((maxs - X) / rng)"
    },
    {
      "metadata": {
        "trusted": true,
        "_uuid": "f4a87cd52b14130499476f229d3ea9da6424d272"
      },
      "cell_type": "markdown",
      "source": "# Sanity check\nassert X.shape[0] == up.shape[0] == r.shape[0]"
    },
    {
      "metadata": {
        "trusted": true,
        "_uuid": "b9a535d64d64ea73c7ae18b402295cbfa03a541e"
      },
      "cell_type": "markdown",
      "source": "X_train, X_test, up_train, up_test, r_train, r_test\\\n= model_selection.train_test_split(X, up, r, test_size=0.25, random_state=99)"
    },
    {
      "metadata": {
        "trusted": true,
        "_uuid": "78160767f62bb6cbe2d174e27d763756d98e7669"
      },
      "cell_type": "markdown",
      "source": "from xgboost import XGBClassifier\nimport time"
    },
    {
      "metadata": {
        "trusted": true,
        "_uuid": "e6952902b042ed246ffab6185594cf689c30c04e"
      },
      "cell_type": "markdown",
      "source": "xgb_up = XGBClassifier(n_jobs=4,n_estimators=200,max_depth=8,eta=0.1)\n"
    },
    {
      "metadata": {
        "trusted": true,
        "_uuid": "1f88ae539957509c02e9bbfdc9d9beb57c71228c"
      },
      "cell_type": "markdown",
      "source": "t = time.time()\nprint('Fitting Up')\nxgb_up.fit(X_train,up_train)\nprint(f'Done, time = {time.time() - t}')"
    },
    {
      "metadata": {
        "_uuid": "ef255752e4b0bd8ed2935c8452a50e3d13460ae4"
      },
      "cell_type": "markdown",
      "source": "A side effect of treating this as a binary task is that we can use a simpler metric to judge our models"
    },
    {
      "metadata": {
        "trusted": true,
        "_uuid": "87c3ef7bd318254837cdb440945acdd65d4f52ce"
      },
      "cell_type": "markdown",
      "source": "from sklearn.metrics import accuracy_score\naccuracy_score(xgb_up.predict(X_test),up_test)"
    },
    {
      "metadata": {
        "trusted": true,
        "_uuid": "d0757a1acfb723f4fd857dd840badb21a3d5add4"
      },
      "cell_type": "markdown",
      "source": "days = env.get_prediction_days()"
    },
    {
      "metadata": {
        "trusted": true,
        "_uuid": "fcca2b373ffa0db07dcdae4a361cc681f714977e"
      },
      "cell_type": "markdown",
      "source": "n_days = 0\nprep_time = 0\nprediction_time = 0\npackaging_time = 0\nfor (market_obs_df, news_obs_df, predictions_template_df) in days:\n    n_days +=1\n    print(n_days,end=' ')\n    t = time.time()\n    market_obs_df = data_prep(market_obs_df, news_obs_df)\n    market_obs_df = market_obs_df[market_obs_df.assetCode.isin(predictions_template_df.assetCode)]\n    X_live = market_obs_df[fcol].values\n    X_live = 1 - ((maxs - X_live) / rng)\n    prep_time += time.time() - t\n    \n    t = time.time()\n    lp = xgb_up.predict_proba(X_live)\n    prediction_time += time.time() -t\n    \n    t = time.time()\n    confidence = 2* lp[:,1] -1\n    preds = pd.DataFrame({'assetCode':market_obs_df['assetCode'],'confidence':confidence})\n    predictions_template_df = predictions_template_df.merge(preds,how='left').drop('confidenceValue',axis=1).fillna(0).rename(columns={'confidence':'confidenceValue'})\n    env.predict(predictions_template_df)\n    packaging_time += time.time() - t"
    },
    {
      "metadata": {
        "trusted": true,
        "_uuid": "44c93e0bb8fb3c5e7624a0b390834c7c867d3056"
      },
      "cell_type": "markdown",
      "source": "env.write_submission_file()"
    },
    {
      "metadata": {
        "trusted": true,
        "_uuid": "7934d0ec2cb72ad2c4f55118e301034bb0f172d5"
      },
      "cell_type": "markdown",
      "source": "total = prep_time + prediction_time + packaging_time\nprint(f'Preparing Data: {prep_time:.2f}s')\nprint(f'Making Predictions: {prediction_time:.2f}s')\nprint(f'Packing: {packaging_time:.2f}s')\nprint(f'Total: {total:.2f}s')"
    },
    {
      "metadata": {
        "_uuid": "94e3ca79097dee8506df8ece48235ff8bd10b82c"
      },
      "cell_type": "markdown",
      "source": "For good measure, we can check what XGBoost bases its decisions on"
    },
    {
      "metadata": {
        "trusted": true,
        "_uuid": "a86c6a9f814a6ceb4183e95387d74040bb1cbf7a"
      },
      "cell_type": "markdown",
      "source": "import matplotlib.pyplot as plt\n%matplotlib inline\nfrom xgboost import plot_importance"
    },
    {
      "metadata": {
        "trusted": true,
        "_uuid": "8003e7a51b7f646a08923f70997ab1000ba6dd62"
      },
      "cell_type": "markdown",
      "source": "plt.figure(num=None, figsize=(10, 10), dpi=80, facecolor='w', edgecolor='k')\nplt.bar(range(len(xgb_up.feature_importances_)), xgb_up.feature_importances_)\nplt.xticks(range(len(xgb_up.feature_importances_)), fcol, rotation='vertical');"
    },
    {
      "metadata": {
        "trusted": true,
        "_uuid": "8adc3924f6d1de2b9b6f071ea5f031f21b18f902"
      },
      "cell_type": "markdown",
      "source": "# Second Analysis"
    },
    {
      "metadata": {
        "_uuid": "8e4caa019577418deaaf5481e13e58b7566a99f2"
      },
      "cell_type": "markdown",
      "source": "## Introduction\nIn this competition you will predict how stocks will change based on the market state and news articles. You will loop through a long series of trading days; for each day, you'll receive an updated state of the market, and a series of news articles which were published since the last trading day, along with impacted stocks and sentiment analysis. You'll use this information to predict whether each stock will have increased or decreased ten trading days into the future. Once you make these predictions, you can move on to the next trading day."
    },
    {
      "metadata": {
        "_uuid": "afc9e3ff33518417d5e89a912d440a3cb32cf30e"
      },
      "cell_type": "markdown",
      "source": "## TL;DR: End-to-End Usage Example"
    },
    {
      "metadata": {
        "trusted": true,
        "_uuid": "1c47c0b160eaf4be39c040e98b39a1e58eb3934f"
      },
      "cell_type": "code",
      "source": "## Libraris\nimport pandas as pd\nimport numpy as np\nimport time\nimport lightgbm as lgb\nfrom sklearn.metrics import mean_squared_error\nfrom sklearn.model_selection import KFold\nimport matplotlib.pyplot as plt\nimport seaborn as sns\n\nplt.style.use('seaborn')\nsns.set(font_scale=2)\n\nimport warnings \nwarnings.filterwarnings('ignore')\nimport os",
      "execution_count": 1,
      "outputs": []
    },
    {
      "metadata": {
        "_uuid": "fe060fecd21fe1a4309464684f1b2d845e705e50"
      },
      "cell_type": "markdown",
      "source": "In the data file description, About this file This is just a sample of the market data. You should not use this data directly.\nInstead, call env.get_training_data() from the twosigmanews package to get the full training sets in your Kernel.\n\nSo you download directly below. I am using DJ sterling kernel(https://www.kaggle.com/dster/two-sigma-news-official-getting-started-kernel) thnaks"
    },
    {
      "metadata": {
        "trusted": true,
        "_uuid": "7b8c0fd17cef12e67c17ca85ff9dbad8856c1843"
      },
      "cell_type": "code",
      "source": "from kaggle.competitions import twosigmanews\n# You can only call make_env() once, so don't lose it!\nenv = twosigmanews.make_env()\nprint('Done!')",
      "execution_count": 2,
      "outputs": [
        {
          "output_type": "stream",
          "text": "Loading the data... This could take a minute.\nDone!\n",
          "name": "stdout"
        }
      ]
    },
    {
      "metadata": {
        "_uuid": "ef43bd2a216adb68f4128c08e56d78db114242cd"
      },
      "cell_type": "markdown",
      "source": "### Load train_data"
    },
    {
      "metadata": {
        "trusted": true,
        "_uuid": "ffa34365c3f0bc3e9b9daad77c81502f4eaf545d"
      },
      "cell_type": "code",
      "source": "(market_train_df, news_train_df) = env.get_training_data()\ndisplay(\"In total: \", market_train_df.shape)",
      "execution_count": 3,
      "outputs": [
        {
          "output_type": "display_data",
          "data": {
            "text/plain": "'In total: '"
          },
          "metadata": {}
        },
        {
          "output_type": "display_data",
          "data": {
            "text/plain": "(4072956, 16)"
          },
          "metadata": {}
        }
      ]
    },
    {
      "metadata": {
        "trusted": true,
        "_uuid": "f259f40363017a2f3bacce1d771b146d99e57232"
      },
      "cell_type": "code",
      "source": "market_train_df.head()",
      "execution_count": 4,
      "outputs": [
        {
          "output_type": "execute_result",
          "execution_count": 4,
          "data": {
            "text/plain": "                       time   ...    universe\n0 2007-02-01 22:00:00+00:00   ...         1.0\n1 2007-02-01 22:00:00+00:00   ...         0.0\n2 2007-02-01 22:00:00+00:00   ...         1.0\n3 2007-02-01 22:00:00+00:00   ...         1.0\n4 2007-02-01 22:00:00+00:00   ...         1.0\n\n[5 rows x 16 columns]",
            "text/html": "<div>\n<style scoped>\n    .dataframe tbody tr th:only-of-type {\n        vertical-align: middle;\n    }\n\n    .dataframe tbody tr th {\n        vertical-align: top;\n    }\n\n    .dataframe thead th {\n        text-align: right;\n    }\n</style>\n<table border=\"1\" class=\"dataframe\">\n  <thead>\n    <tr style=\"text-align: right;\">\n      <th></th>\n      <th>time</th>\n      <th>assetCode</th>\n      <th>assetName</th>\n      <th>volume</th>\n      <th>close</th>\n      <th>open</th>\n      <th>returnsClosePrevRaw1</th>\n      <th>returnsOpenPrevRaw1</th>\n      <th>returnsClosePrevMktres1</th>\n      <th>returnsOpenPrevMktres1</th>\n      <th>returnsClosePrevRaw10</th>\n      <th>returnsOpenPrevRaw10</th>\n      <th>returnsClosePrevMktres10</th>\n      <th>returnsOpenPrevMktres10</th>\n      <th>returnsOpenNextMktres10</th>\n      <th>universe</th>\n    </tr>\n  </thead>\n  <tbody>\n    <tr>\n      <th>0</th>\n      <td>2007-02-01 22:00:00+00:00</td>\n      <td>A.N</td>\n      <td>Agilent Technologies Inc</td>\n      <td>2606900.0</td>\n      <td>32.19</td>\n      <td>32.17</td>\n      <td>0.005938</td>\n      <td>0.005312</td>\n      <td>NaN</td>\n      <td>NaN</td>\n      <td>-0.001860</td>\n      <td>0.000622</td>\n      <td>NaN</td>\n      <td>NaN</td>\n      <td>0.034672</td>\n      <td>1.0</td>\n    </tr>\n    <tr>\n      <th>1</th>\n      <td>2007-02-01 22:00:00+00:00</td>\n      <td>AAI.N</td>\n      <td>AirTran Holdings Inc</td>\n      <td>2051600.0</td>\n      <td>11.12</td>\n      <td>11.08</td>\n      <td>0.004517</td>\n      <td>-0.007168</td>\n      <td>NaN</td>\n      <td>NaN</td>\n      <td>-0.078708</td>\n      <td>-0.088066</td>\n      <td>NaN</td>\n      <td>NaN</td>\n      <td>0.027803</td>\n      <td>0.0</td>\n    </tr>\n    <tr>\n      <th>2</th>\n      <td>2007-02-01 22:00:00+00:00</td>\n      <td>AAP.N</td>\n      <td>Advance Auto Parts Inc</td>\n      <td>1164800.0</td>\n      <td>37.51</td>\n      <td>37.99</td>\n      <td>-0.011594</td>\n      <td>0.025648</td>\n      <td>NaN</td>\n      <td>NaN</td>\n      <td>0.014332</td>\n      <td>0.045405</td>\n      <td>NaN</td>\n      <td>NaN</td>\n      <td>0.024433</td>\n      <td>1.0</td>\n    </tr>\n    <tr>\n      <th>3</th>\n      <td>2007-02-01 22:00:00+00:00</td>\n      <td>AAPL.O</td>\n      <td>Apple Inc</td>\n      <td>23747329.0</td>\n      <td>84.74</td>\n      <td>86.23</td>\n      <td>-0.011548</td>\n      <td>0.016324</td>\n      <td>NaN</td>\n      <td>NaN</td>\n      <td>-0.048613</td>\n      <td>-0.037182</td>\n      <td>NaN</td>\n      <td>NaN</td>\n      <td>-0.007425</td>\n      <td>1.0</td>\n    </tr>\n    <tr>\n      <th>4</th>\n      <td>2007-02-01 22:00:00+00:00</td>\n      <td>ABB.N</td>\n      <td>ABB Ltd</td>\n      <td>1208600.0</td>\n      <td>18.02</td>\n      <td>18.01</td>\n      <td>0.011791</td>\n      <td>0.025043</td>\n      <td>NaN</td>\n      <td>NaN</td>\n      <td>0.012929</td>\n      <td>0.020397</td>\n      <td>NaN</td>\n      <td>NaN</td>\n      <td>-0.017994</td>\n      <td>1.0</td>\n    </tr>\n  </tbody>\n</table>\n</div>"
          },
          "metadata": {}
        }
      ]
    },
    {
      "metadata": {
        "trusted": true,
        "_uuid": "fe6600cb5adaf2c53f085f3c881a5aec815c598a"
      },
      "cell_type": "code",
      "source": "display(\"In total: \", news_train_df.shape)",
      "execution_count": 5,
      "outputs": [
        {
          "output_type": "display_data",
          "data": {
            "text/plain": "'In total: '"
          },
          "metadata": {}
        },
        {
          "output_type": "display_data",
          "data": {
            "text/plain": "(9328750, 35)"
          },
          "metadata": {}
        }
      ]
    },
    {
      "metadata": {
        "trusted": true,
        "_uuid": "a8a4e345ee1ab15c793e434a99e3522ec87856ec"
      },
      "cell_type": "code",
      "source": "news_train_df.head()",
      "execution_count": 6,
      "outputs": [
        {
          "output_type": "execute_result",
          "execution_count": 6,
          "data": {
            "text/plain": "                       time      ...       volumeCounts7D\n0 2007-01-01 04:29:32+00:00      ...                    7\n1 2007-01-01 07:03:35+00:00      ...                    3\n2 2007-01-01 11:29:56+00:00      ...                   17\n3 2007-01-01 12:08:37+00:00      ...                   15\n4 2007-01-01 12:08:37+00:00      ...                    0\n\n[5 rows x 35 columns]",
            "text/html": "<div>\n<style scoped>\n    .dataframe tbody tr th:only-of-type {\n        vertical-align: middle;\n    }\n\n    .dataframe tbody tr th {\n        vertical-align: top;\n    }\n\n    .dataframe thead th {\n        text-align: right;\n    }\n</style>\n<table border=\"1\" class=\"dataframe\">\n  <thead>\n    <tr style=\"text-align: right;\">\n      <th></th>\n      <th>time</th>\n      <th>sourceTimestamp</th>\n      <th>firstCreated</th>\n      <th>sourceId</th>\n      <th>headline</th>\n      <th>urgency</th>\n      <th>takeSequence</th>\n      <th>provider</th>\n      <th>subjects</th>\n      <th>audiences</th>\n      <th>bodySize</th>\n      <th>companyCount</th>\n      <th>headlineTag</th>\n      <th>marketCommentary</th>\n      <th>sentenceCount</th>\n      <th>wordCount</th>\n      <th>assetCodes</th>\n      <th>assetName</th>\n      <th>firstMentionSentence</th>\n      <th>relevance</th>\n      <th>sentimentClass</th>\n      <th>sentimentNegative</th>\n      <th>sentimentNeutral</th>\n      <th>sentimentPositive</th>\n      <th>sentimentWordCount</th>\n      <th>noveltyCount12H</th>\n      <th>noveltyCount24H</th>\n      <th>noveltyCount3D</th>\n      <th>noveltyCount5D</th>\n      <th>noveltyCount7D</th>\n      <th>volumeCounts12H</th>\n      <th>volumeCounts24H</th>\n      <th>volumeCounts3D</th>\n      <th>volumeCounts5D</th>\n      <th>volumeCounts7D</th>\n    </tr>\n  </thead>\n  <tbody>\n    <tr>\n      <th>0</th>\n      <td>2007-01-01 04:29:32+00:00</td>\n      <td>2007-01-01 04:29:32+00:00</td>\n      <td>2007-01-01 04:29:32+00:00</td>\n      <td>e58c6279551b85cf</td>\n      <td>China's Daqing pumps 43.41 mln tonnes of oil i...</td>\n      <td>3</td>\n      <td>1</td>\n      <td>RTRS</td>\n      <td>{'ENR', 'ASIA', 'CN', 'NGS', 'EMRG', 'RTRS', '...</td>\n      <td>{'Z', 'O', 'OIL'}</td>\n      <td>1438</td>\n      <td>1</td>\n      <td></td>\n      <td>False</td>\n      <td>11</td>\n      <td>275</td>\n      <td>{'0857.HK', '0857.F', '0857.DE', 'PTR.N'}</td>\n      <td>PetroChina Co Ltd</td>\n      <td>6</td>\n      <td>0.235702</td>\n      <td>-1</td>\n      <td>0.500739</td>\n      <td>0.419327</td>\n      <td>0.079934</td>\n      <td>73</td>\n      <td>0</td>\n      <td>0</td>\n      <td>0</td>\n      <td>0</td>\n      <td>0</td>\n      <td>0</td>\n      <td>0</td>\n      <td>3</td>\n      <td>6</td>\n      <td>7</td>\n    </tr>\n    <tr>\n      <th>1</th>\n      <td>2007-01-01 07:03:35+00:00</td>\n      <td>2007-01-01 07:03:34+00:00</td>\n      <td>2007-01-01 07:03:34+00:00</td>\n      <td>5a31c4327427f63f</td>\n      <td>FEATURE-In kidnapping, finesse works best</td>\n      <td>3</td>\n      <td>1</td>\n      <td>RTRS</td>\n      <td>{'FEA', 'CA', 'LATAM', 'MX', 'INS', 'ASIA', 'I...</td>\n      <td>{'PGE', 'PCO', 'G', 'ESN', 'MD', 'PCU', 'DNP',...</td>\n      <td>4413</td>\n      <td>1</td>\n      <td>FEATURE</td>\n      <td>False</td>\n      <td>55</td>\n      <td>907</td>\n      <td>{'STA.N'}</td>\n      <td>Travelers Companies Inc</td>\n      <td>8</td>\n      <td>0.447214</td>\n      <td>-1</td>\n      <td>0.600082</td>\n      <td>0.345853</td>\n      <td>0.054064</td>\n      <td>62</td>\n      <td>1</td>\n      <td>1</td>\n      <td>1</td>\n      <td>1</td>\n      <td>1</td>\n      <td>1</td>\n      <td>1</td>\n      <td>3</td>\n      <td>3</td>\n      <td>3</td>\n    </tr>\n    <tr>\n      <th>2</th>\n      <td>2007-01-01 11:29:56+00:00</td>\n      <td>2007-01-01 11:29:56+00:00</td>\n      <td>2007-01-01 11:29:56+00:00</td>\n      <td>1cefd27a40fabdfe</td>\n      <td>PRESS DIGEST - Wall Street Journal - Jan 1</td>\n      <td>3</td>\n      <td>1</td>\n      <td>RTRS</td>\n      <td>{'RET', 'ENR', 'ID', 'BG', 'US', 'PRESS', 'IQ'...</td>\n      <td>{'T', 'DNP', 'PSC', 'U', 'D', 'M', 'RNP', 'PTD...</td>\n      <td>2108</td>\n      <td>2</td>\n      <td>PRESS DIGEST</td>\n      <td>False</td>\n      <td>15</td>\n      <td>388</td>\n      <td>{'WMT.DE', 'WMT.N'}</td>\n      <td>Wal-Mart Stores Inc</td>\n      <td>14</td>\n      <td>0.377964</td>\n      <td>-1</td>\n      <td>0.450049</td>\n      <td>0.295671</td>\n      <td>0.254280</td>\n      <td>67</td>\n      <td>0</td>\n      <td>0</td>\n      <td>0</td>\n      <td>0</td>\n      <td>0</td>\n      <td>0</td>\n      <td>0</td>\n      <td>5</td>\n      <td>11</td>\n      <td>17</td>\n    </tr>\n    <tr>\n      <th>3</th>\n      <td>2007-01-01 12:08:37+00:00</td>\n      <td>2007-01-01 12:08:37+00:00</td>\n      <td>2007-01-01 12:08:37+00:00</td>\n      <td>23768af19dc69992</td>\n      <td>PRESS DIGEST - New York Times - Jan 1</td>\n      <td>3</td>\n      <td>1</td>\n      <td>RTRS</td>\n      <td>{'FUND', 'FIN', 'CA', 'SFWR', 'INS', 'PUB', 'B...</td>\n      <td>{'T', 'DNP', 'PSC', 'U', 'D', 'M', 'RNP', 'PTD...</td>\n      <td>1776</td>\n      <td>6</td>\n      <td>PRESS DIGEST</td>\n      <td>False</td>\n      <td>14</td>\n      <td>325</td>\n      <td>{'GOOG.O', 'GOOG.OQ', 'GOOGa.DE'}</td>\n      <td>Google Inc</td>\n      <td>13</td>\n      <td>0.149071</td>\n      <td>-1</td>\n      <td>0.752917</td>\n      <td>0.162715</td>\n      <td>0.084368</td>\n      <td>83</td>\n      <td>0</td>\n      <td>0</td>\n      <td>0</td>\n      <td>0</td>\n      <td>0</td>\n      <td>0</td>\n      <td>0</td>\n      <td>5</td>\n      <td>13</td>\n      <td>15</td>\n    </tr>\n    <tr>\n      <th>4</th>\n      <td>2007-01-01 12:08:37+00:00</td>\n      <td>2007-01-01 12:08:37+00:00</td>\n      <td>2007-01-01 12:08:37+00:00</td>\n      <td>23768af19dc69992</td>\n      <td>PRESS DIGEST - New York Times - Jan 1</td>\n      <td>3</td>\n      <td>1</td>\n      <td>RTRS</td>\n      <td>{'FUND', 'FIN', 'CA', 'SFWR', 'INS', 'PUB', 'B...</td>\n      <td>{'T', 'DNP', 'PSC', 'U', 'D', 'M', 'RNP', 'PTD...</td>\n      <td>1776</td>\n      <td>6</td>\n      <td>PRESS DIGEST</td>\n      <td>False</td>\n      <td>14</td>\n      <td>325</td>\n      <td>{'XMSR.O'}</td>\n      <td>XM Satellite Radio Holdings Inc</td>\n      <td>11</td>\n      <td>0.149071</td>\n      <td>-1</td>\n      <td>0.699274</td>\n      <td>0.209360</td>\n      <td>0.091366</td>\n      <td>102</td>\n      <td>0</td>\n      <td>0</td>\n      <td>0</td>\n      <td>0</td>\n      <td>0</td>\n      <td>0</td>\n      <td>0</td>\n      <td>0</td>\n      <td>0</td>\n      <td>0</td>\n    </tr>\n  </tbody>\n</table>\n</div>"
          },
          "metadata": {}
        }
      ]
    },
    {
      "metadata": {
        "trusted": true,
        "_uuid": "22a2272e576f0072fb4431cd492a4ae5007662db"
      },
      "cell_type": "markdown",
      "source": "### Load test_data"
    },
    {
      "metadata": {
        "trusted": true,
        "_uuid": "73ecbfe781a29732dfd16dc304993739c0648e32"
      },
      "cell_type": "code",
      "source": "days = env.get_prediction_days()\n(market_obs_df, news_obs_df, predictions_template_df) = next(days)",
      "execution_count": null,
      "outputs": []
    },
    {
      "metadata": {
        "trusted": true,
        "_uuid": "1451c6869672a80c5a018ba00f440e345306c483"
      },
      "cell_type": "code",
      "source": "print(\"Total: \", market_obs_df.shape)",
      "execution_count": 9,
      "outputs": [
        {
          "output_type": "stream",
          "text": "Total:  (1823, 14)\n",
          "name": "stdout"
        }
      ]
    },
    {
      "metadata": {
        "trusted": true,
        "_uuid": "037a6e01a74fb6e674e08cf1b6964f945c597e02"
      },
      "cell_type": "code",
      "source": "market_obs_df.head()",
      "execution_count": 10,
      "outputs": [
        {
          "output_type": "execute_result",
          "execution_count": 10,
          "data": {
            "text/plain": "      volume             ...                                 assetName\n0  1739726.0             ...                  Agilent Technologies Inc\n1  2746634.0             ...                                Alcoa Corp\n2  6737752.0             ...               American Airlines Group Inc\n3   760498.0             ...                               Aaron's Inc\n4   691526.0             ...                    Advance Auto Parts Inc\n\n[5 rows x 14 columns]",
            "text/html": "<div>\n<style scoped>\n    .dataframe tbody tr th:only-of-type {\n        vertical-align: middle;\n    }\n\n    .dataframe tbody tr th {\n        vertical-align: top;\n    }\n\n    .dataframe thead th {\n        text-align: right;\n    }\n</style>\n<table border=\"1\" class=\"dataframe\">\n  <thead>\n    <tr style=\"text-align: right;\">\n      <th></th>\n      <th>volume</th>\n      <th>returnsOpenPrevRaw10</th>\n      <th>returnsOpenPrevMktres10</th>\n      <th>close</th>\n      <th>returnsClosePrevRaw10</th>\n      <th>assetCode</th>\n      <th>returnsClosePrevRaw1</th>\n      <th>returnsClosePrevMktres1</th>\n      <th>time</th>\n      <th>returnsOpenPrevMktres1</th>\n      <th>returnsClosePrevMktres10</th>\n      <th>open</th>\n      <th>returnsOpenPrevRaw1</th>\n      <th>assetName</th>\n    </tr>\n  </thead>\n  <tbody>\n    <tr>\n      <th>0</th>\n      <td>1739726.0</td>\n      <td>-0.011736</td>\n      <td>0.001985</td>\n      <td>46.49</td>\n      <td>0.015565</td>\n      <td>A.N</td>\n      <td>0.020413</td>\n      <td>0.009812</td>\n      <td>2017-01-03 22:00:00+00:00</td>\n      <td>0.003744</td>\n      <td>0.015757</td>\n      <td>45.93</td>\n      <td>0.003715</td>\n      <td>Agilent Technologies Inc</td>\n    </tr>\n    <tr>\n      <th>1</th>\n      <td>2746634.0</td>\n      <td>-0.035413</td>\n      <td>NaN</td>\n      <td>28.83</td>\n      <td>-0.019388</td>\n      <td>AA.N</td>\n      <td>0.026709</td>\n      <td>0.015256</td>\n      <td>2017-01-03 22:00:00+00:00</td>\n      <td>-0.012756</td>\n      <td>NaN</td>\n      <td>28.60</td>\n      <td>-0.012772</td>\n      <td>Alcoa Corp</td>\n    </tr>\n    <tr>\n      <th>2</th>\n      <td>6737752.0</td>\n      <td>-0.027361</td>\n      <td>-0.015277</td>\n      <td>46.30</td>\n      <td>-0.027924</td>\n      <td>AAL.O</td>\n      <td>-0.008353</td>\n      <td>-0.026595</td>\n      <td>2017-01-03 22:00:00+00:00</td>\n      <td>-0.002917</td>\n      <td>-0.027729</td>\n      <td>47.28</td>\n      <td>-0.002952</td>\n      <td>American Airlines Group Inc</td>\n    </tr>\n    <tr>\n      <th>3</th>\n      <td>760498.0</td>\n      <td>-0.021739</td>\n      <td>0.011201</td>\n      <td>31.90</td>\n      <td>-0.026846</td>\n      <td>AAN.N</td>\n      <td>-0.002813</td>\n      <td>-0.020835</td>\n      <td>2017-01-03 22:00:00+00:00</td>\n      <td>0.010329</td>\n      <td>-0.026324</td>\n      <td>32.40</td>\n      <td>0.010290</td>\n      <td>Aaron's Inc</td>\n    </tr>\n    <tr>\n      <th>4</th>\n      <td>691526.0</td>\n      <td>-0.014546</td>\n      <td>-0.010078</td>\n      <td>170.60</td>\n      <td>-0.007281</td>\n      <td>AAP.N</td>\n      <td>0.008751</td>\n      <td>-0.001344</td>\n      <td>2017-01-03 22:00:00+00:00</td>\n      <td>-0.003128</td>\n      <td>-0.007198</td>\n      <td>170.78</td>\n      <td>-0.003152</td>\n      <td>Advance Auto Parts Inc</td>\n    </tr>\n  </tbody>\n</table>\n</div>"
          },
          "metadata": {}
        }
      ]
    },
    {
      "metadata": {
        "trusted": true,
        "_uuid": "c9c30347c2944888fb688250ecc6bccb74f8dda5"
      },
      "cell_type": "code",
      "source": "print(\"In total: \", news_obs_df.shape)",
      "execution_count": 11,
      "outputs": [
        {
          "output_type": "stream",
          "text": "In total:  (2776, 35)\n",
          "name": "stdout"
        }
      ]
    },
    {
      "metadata": {
        "trusted": true,
        "_uuid": "a7e1b2a9d5a6f62ebc4ed689d0e796d9294ce451"
      },
      "cell_type": "code",
      "source": "news_obs_df.head()",
      "execution_count": 12,
      "outputs": [
        {
          "output_type": "execute_result",
          "execution_count": 12,
          "data": {
            "text/plain": "                       time      ...       volumeCounts7D\n0 2016-12-30 22:00:02+00:00      ...                    0\n1 2016-12-30 22:00:02+00:00      ...                    0\n2 2016-12-30 22:00:06+00:00      ...                    0\n3 2016-12-30 22:00:06+00:00      ...                    2\n4 2016-12-30 22:00:17+00:00      ...                    1\n\n[5 rows x 35 columns]",
            "text/html": "<div>\n<style scoped>\n    .dataframe tbody tr th:only-of-type {\n        vertical-align: middle;\n    }\n\n    .dataframe tbody tr th {\n        vertical-align: top;\n    }\n\n    .dataframe thead th {\n        text-align: right;\n    }\n</style>\n<table border=\"1\" class=\"dataframe\">\n  <thead>\n    <tr style=\"text-align: right;\">\n      <th></th>\n      <th>time</th>\n      <th>sourceTimestamp</th>\n      <th>firstCreated</th>\n      <th>sourceId</th>\n      <th>headline</th>\n      <th>urgency</th>\n      <th>takeSequence</th>\n      <th>provider</th>\n      <th>subjects</th>\n      <th>audiences</th>\n      <th>bodySize</th>\n      <th>companyCount</th>\n      <th>headlineTag</th>\n      <th>marketCommentary</th>\n      <th>sentenceCount</th>\n      <th>wordCount</th>\n      <th>assetCodes</th>\n      <th>assetName</th>\n      <th>firstMentionSentence</th>\n      <th>relevance</th>\n      <th>sentimentClass</th>\n      <th>sentimentNegative</th>\n      <th>sentimentNeutral</th>\n      <th>sentimentPositive</th>\n      <th>sentimentWordCount</th>\n      <th>noveltyCount12H</th>\n      <th>noveltyCount24H</th>\n      <th>noveltyCount3D</th>\n      <th>noveltyCount5D</th>\n      <th>noveltyCount7D</th>\n      <th>volumeCounts12H</th>\n      <th>volumeCounts24H</th>\n      <th>volumeCounts3D</th>\n      <th>volumeCounts5D</th>\n      <th>volumeCounts7D</th>\n    </tr>\n  </thead>\n  <tbody>\n    <tr>\n      <th>0</th>\n      <td>2016-12-30 22:00:02+00:00</td>\n      <td>2016-12-30 22:00:02+00:00</td>\n      <td>2016-12-30 22:00:02+00:00</td>\n      <td>02ae05e4a5650826</td>\n      <td>Enstar Announces Acquisition of Dana Companies...</td>\n      <td>3</td>\n      <td>1</td>\n      <td>GNW</td>\n      <td>{'MRG', 'MINS', 'NEWR', 'INSR', 'BACT', 'BM', ...</td>\n      <td>{'CNR', 'GNWN'}</td>\n      <td>3742</td>\n      <td>1</td>\n      <td></td>\n      <td>False</td>\n      <td>19</td>\n      <td>575</td>\n      <td>{'ESGR.OQ', 'ESGR.O'}</td>\n      <td>Enstar Group Ltd</td>\n      <td>1</td>\n      <td>1.0</td>\n      <td>1</td>\n      <td>0.222786</td>\n      <td>0.382740</td>\n      <td>0.394474</td>\n      <td>555</td>\n      <td>0</td>\n      <td>0</td>\n      <td>0</td>\n      <td>0</td>\n      <td>0</td>\n      <td>0</td>\n      <td>0</td>\n      <td>0</td>\n      <td>0</td>\n      <td>0</td>\n    </tr>\n    <tr>\n      <th>1</th>\n      <td>2016-12-30 22:00:02+00:00</td>\n      <td>2016-12-30 22:00:02+00:00</td>\n      <td>2016-12-30 22:00:02+00:00</td>\n      <td>8a59a41e3dc3f255</td>\n      <td>ENSTAR ANNOUNCES ACQUISITION OF DANA COMPANIES</td>\n      <td>1</td>\n      <td>1</td>\n      <td>RTRS</td>\n      <td>{'BLR', 'MINS', 'INSR', 'FINS', 'US', 'CMPNY',...</td>\n      <td>{'E', 'U'}</td>\n      <td>0</td>\n      <td>1</td>\n      <td></td>\n      <td>False</td>\n      <td>1</td>\n      <td>7</td>\n      <td>{'ESGR.OQ', 'ESGR.O'}</td>\n      <td>Enstar Group Ltd</td>\n      <td>1</td>\n      <td>1.0</td>\n      <td>0</td>\n      <td>0.172375</td>\n      <td>0.611033</td>\n      <td>0.216592</td>\n      <td>7</td>\n      <td>0</td>\n      <td>0</td>\n      <td>0</td>\n      <td>0</td>\n      <td>0</td>\n      <td>0</td>\n      <td>0</td>\n      <td>0</td>\n      <td>0</td>\n      <td>0</td>\n    </tr>\n    <tr>\n      <th>2</th>\n      <td>2016-12-30 22:00:06+00:00</td>\n      <td>2016-12-30 22:00:06+00:00</td>\n      <td>2016-12-30 22:00:02+00:00</td>\n      <td>c8ee6bcb3de3a944</td>\n      <td>ENSTAR ANNOUNCES ACQUISITION OF DANA COMPANIES</td>\n      <td>1</td>\n      <td>2</td>\n      <td>RTRS</td>\n      <td>{'BLR', 'AUTO', 'MINS', 'CYCS', 'INSR', 'FINS'...</td>\n      <td>{'E', 'U'}</td>\n      <td>0</td>\n      <td>2</td>\n      <td></td>\n      <td>False</td>\n      <td>1</td>\n      <td>7</td>\n      <td>{'DAN.N'}</td>\n      <td>Dana Inc</td>\n      <td>1</td>\n      <td>1.0</td>\n      <td>0</td>\n      <td>0.172375</td>\n      <td>0.611033</td>\n      <td>0.216592</td>\n      <td>7</td>\n      <td>0</td>\n      <td>0</td>\n      <td>0</td>\n      <td>0</td>\n      <td>0</td>\n      <td>0</td>\n      <td>0</td>\n      <td>0</td>\n      <td>0</td>\n      <td>0</td>\n    </tr>\n    <tr>\n      <th>3</th>\n      <td>2016-12-30 22:00:06+00:00</td>\n      <td>2016-12-30 22:00:06+00:00</td>\n      <td>2016-12-30 22:00:02+00:00</td>\n      <td>c8ee6bcb3de3a944</td>\n      <td>ENSTAR ANNOUNCES ACQUISITION OF DANA COMPANIES</td>\n      <td>1</td>\n      <td>2</td>\n      <td>RTRS</td>\n      <td>{'BLR', 'AUTO', 'MINS', 'CYCS', 'INSR', 'FINS'...</td>\n      <td>{'E', 'U'}</td>\n      <td>0</td>\n      <td>2</td>\n      <td></td>\n      <td>False</td>\n      <td>1</td>\n      <td>7</td>\n      <td>{'ESGR.OQ', 'ESGR.O'}</td>\n      <td>Enstar Group Ltd</td>\n      <td>1</td>\n      <td>1.0</td>\n      <td>0</td>\n      <td>0.172375</td>\n      <td>0.611033</td>\n      <td>0.216592</td>\n      <td>7</td>\n      <td>2</td>\n      <td>2</td>\n      <td>2</td>\n      <td>2</td>\n      <td>2</td>\n      <td>2</td>\n      <td>2</td>\n      <td>2</td>\n      <td>2</td>\n      <td>2</td>\n    </tr>\n    <tr>\n      <th>4</th>\n      <td>2016-12-30 22:00:17+00:00</td>\n      <td>2016-12-30 22:00:17+00:00</td>\n      <td>2016-12-30 21:33:44+00:00</td>\n      <td>58ea9d8a0be61c03</td>\n      <td>BRIEF-Axovant Sciences files for mixed shelf o...</td>\n      <td>3</td>\n      <td>1</td>\n      <td>RTRS</td>\n      <td>{'BLR', 'SISU', 'INDU', 'DBT', 'HECA', 'PHMR',...</td>\n      <td>{'PCO', 'PCU', 'DNP', 'PSC', 'U', 'RNP', 'NAW'...</td>\n      <td>239</td>\n      <td>1</td>\n      <td>BRIEF</td>\n      <td>False</td>\n      <td>4</td>\n      <td>65</td>\n      <td>{'AXON.N'}</td>\n      <td>Axovant Sciences Ltd</td>\n      <td>1</td>\n      <td>1.0</td>\n      <td>0</td>\n      <td>0.307338</td>\n      <td>0.378957</td>\n      <td>0.313705</td>\n      <td>58</td>\n      <td>1</td>\n      <td>1</td>\n      <td>1</td>\n      <td>1</td>\n      <td>1</td>\n      <td>1</td>\n      <td>1</td>\n      <td>1</td>\n      <td>1</td>\n      <td>1</td>\n    </tr>\n  </tbody>\n</table>\n</div>"
          },
          "metadata": {}
        }
      ]
    },
    {
      "metadata": {
        "trusted": true,
        "_uuid": "8ebe7e6ece50f6c1f0c0f3cb14c10180017f2c6e"
      },
      "cell_type": "code",
      "source": "print(\"In market_train_df: \", market_train_df.shape);print(\"In market_obs_df: \", market_obs_df.shape);\nprint(\"In news_train_df: \", news_train_df.shape);print(\"In news_obs_df: \", news_obs_df.shape)",
      "execution_count": 13,
      "outputs": [
        {
          "output_type": "stream",
          "text": "In market_train_df:  (4072956, 16)\nIn market_obs_df:  (1823, 14)\nIn news_train_df:  (9328750, 35)\nIn news_obs_df:  (2776, 35)\n",
          "name": "stdout"
        }
      ]
    },
    {
      "metadata": {
        "_uuid": "d3f212757dcd09620613381aa3da5e23770c5dd4"
      },
      "cell_type": "markdown",
      "source": "market_train data is about 40.7 million( 2007-02-01 ~ 2016-12-30 ) , market_test is about 1800 ( 2017-01-03 ). Similarly, news is similar.\nThe other two variables above are missing assetName anduniverse."
    },
    {
      "metadata": {
        "_uuid": "10b547cae29ae3114364e3de754a0d0a96d64057"
      },
      "cell_type": "markdown",
      "source": "## Data Description\n### Market data\nMarket data The data includes a subset of US-listed instruments. The set of included instruments changes daily and is determined based on the amount traded and the availability of information. This means that there may be instruments that enter and leave this subset of data. There may therefore be gaps in the data provided, and this does not necessarily imply that that data does not exist (those rows are likely not included due to the selection criteria).\n\nThe marketdata contains a variety of returns calculated over different timespans. All of the returns in this set of marketdata have these properties:\n\n- Returns are always calculated either open-to-open (from the opening time of one trading day to the open of another) or close-to-close (from the closing time of one trading day to the open of another).\n- Returns are either raw, meaning that the data is not adjusted against any benchmark, or market-residualized (Mktres), meaning that the movement of the market as a whole has been accounted for, leaving only movements inherent to the instrument.\n- Returns can be calculated over any arbitrary interval. Provided here are 1 day and 10 day horizons.\n- Returns are tagged with 'Prev' if they are backwards looking in time, or 'Next' if forwards looking.\n\nWithin the marketdata, you will find the following columns:\n\n- time(datetime64[ns, UTC]) - the current time (in marketdata, all rows are taken at 22:00 UTC)\n- assetCode(object) - a unique id of an asset\n-assetName(category) - the name that corresponds to a group of assetCodes. These may be \"Unknown\" if the corresponding - assetCode does not have any rows in the news data.\n- universe(float64) - a boolean indicating whether or not the instrument on that day will be included in scoring. This value is not provided outside of the training data time period. The trading universe on a given date is the set of instruments that are avilable for trading (the scoring function will not consider instruments that are not in the trading universe). The trading universe changes daily.\n- volume(float64) - trading volume in shares for the day\n- close(float64) - the close price for the day (not adjusted for splits or dividends)\n- open(float64) - the open price for the day (not adjusted for splits or dividends)\n- returnsClosePrevRaw1(float64) - see returns explanation above\n- returnsOpenPrevRaw1(float64) - see returns explanation above\n- returnsClosePrevMktres1(float64) - see returns explanation above\n- returnsOpenPrevMktres1(float64) - see returns explanation above\n- returnsClosePrevRaw10(float64) - see returns explanation above\n- returnsOpenPrevRaw10(float64) - see returns explanation above\n- returnsClosePrevMktres10(float64) - see returns explanation above\n- returnsOpenPrevMktres10(float64) - see returns explanation above\n- returnsOpenNextMktres10(float64) - 10 day, market-residualized return. This is the target variable used in competition scoring. The market data has been filtered such that returnsOpenNextMktres10 is always not null.\n\n### News data\nThe news data contains information at both the news article level and asset level (in other words, the table is intentionally not normalized).\n\n- time(datetime64[ns, UTC]) - UTC timestamp showing when the data was available on the feed (second precision)\n- sourceTimestamp(datetime64[ns, UTC]) - UTC timestamp of this news item when it was created\n- firstCreated(datetime64[ns, UTC]) - UTC timestamp for the first version of the item\n- sourceId(object) - an Id for each news item\n- headline(object) - the item's headline\n- urgency(int8) - differentiates story types (1: alert, 3: article)\n- takeSequence(int16) - the take sequence number of the news item, starting at 1. For a given story, alerts and articles have - separate sequences.\n- provider(category) - identifier for the organization which provided the news item (e.g. RTRS for Reuters News, BSW for - Business Wire)\n- subjects(category) - topic codes and company identifiers that relate to this news item. Topic codes describe the news item's - subject matter. These can cover asset classes, geographies, events, industries/sectors, and other types.\n- audiences(category) - identifies which desktop news product(s) the news item belongs to. They are typically tailored to specific - audiences. (e.g. \"M\" for Money International News Service and \"FB\" for French General News Service)\n- bodySize(int32) - the size of the current version of the story body in characters\n- companyCount(int8) - the number of companies explicitly listed in the news item in the subjects field\n- headlineTag(object) - the Thomson Reuters headline tag for the news item\n- marketCommentary(bool) - boolean indicator that the item is discussing general market conditions, such as \"After the Bell\" summaries\n- sentenceCount(int16) - the total number of sentences in the news item. Can be used in conjunction with firstMentionSentence to determine the relative position of the first mention in the item.\n- wordCount(int32) - the total number of lexical tokens (words and punctuation) in the news item\n- assetCodes(category) - list of assets mentioned in the item\n- assetName(category) - name of the asset\n- firstMentionSentence(int16) - the first sentence, starting with the headline, in which the scored asset is mentioned.\n    - 1: headline\n    - 2: first sentence of the story body\n    - 3: second sentence of the body, etc\n    - 0: the asset being scored was not found in the news item's headline or body text. As a result, the entire news item's text (headline + body) will be used to determine the sentiment score.\n- relevance(float32) - a decimal number indicating the relevance of the news item to the asset. It ranges from 0 to 1. If the asset is mentioned in the headline, the relevance is set to 1. When the item is an alert (urgency == 1), relevance should be gauged by firstMentionSentence instead.\n- sentimentClass(int8) - indicates the predominant sentiment class for this news item with respect to the asset. The indicated class is the one with the highest probability.\n- sentimentNegative(float32) - probability that the sentiment of the news item was negative for the asset\n- sentimentNeutral(float32) - probability that the sentiment of the news item was neutral for the asset\n- sentimentPositive(float32) - probability that the sentiment of the news item was positive for the asset\n- sentimentWordCount(int32) - the number of lexical tokens in the sections of the item text that are deemed relevant to the asset. This can be used in conjunction with wordCount to determine the proportion of the news item discussing the asset.\n- noveltyCount12H(int16) - The 12 hour novelty of the content within a news item on a particular asset. It is calculated by comparing it with the asset-specific text over a cache of previous news items that contain the asset.\n- noveltyCount24H(int16) - same as above, but for 24 hours\n- noveltyCount3D(int16) - same as above, but for 3 days\n- noveltyCount5D(int16) - same as above, but for 5 days\n- noveltyCount7D(int16) - same as above, but for 7 days\n- volumeCounts12H(int16) - the 12 hour volume of news for each asset. A cache of previous news items is maintained and the number of news items that mention the asset within each of five historical periods is calculated.\n- volumeCounts24H(int16) - same as above, but for 24 hours\n- volumeCounts3D(int16) - same as above, but for 3 days\n- volumeCounts5D(int16) - same as above, but for 5 days\n- volumeCounts7D(int16) - same as above, but for 7 days"
    }
  ],
  "metadata": {
    "kernelspec": {
      "display_name": "Python 3",
      "language": "python",
      "name": "python3"
    },
    "language_info": {
      "name": "python",
      "version": "3.6.6",
      "mimetype": "text/x-python",
      "codemirror_mode": {
        "name": "ipython",
        "version": 3
      },
      "pygments_lexer": "ipython3",
      "nbconvert_exporter": "python",
      "file_extension": ".py"
    }
  },
  "nbformat": 4,
  "nbformat_minor": 1
}