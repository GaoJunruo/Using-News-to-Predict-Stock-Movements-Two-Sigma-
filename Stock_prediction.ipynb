{
  "cells": [
    {
      "metadata": {
        "_uuid": "8f2839f25d086af736a60e9eeb907d3b93b6e0e5",
        "_cell_guid": "b1076dfc-b9ad-4769-8c92-a6c4dae69d19",
        "trusted": true
      },
      "cell_type": "code",
      "source": "import pandas as pd\nimport numpy as np\nfrom sklearn import *\nfrom kaggle.competitions import twosigmanews\nenv = twosigmanews.make_env()\n(market_train, news_train) = env.get_training_data()",
      "execution_count": null,
      "outputs": []
    },
    {
      "metadata": {
        "trusted": true,
        "_uuid": "2ca308f612d6a55a75a63ca5de70edd1ecc00f91"
      },
      "cell_type": "code",
      "source": "def data_prep(market_train,news_train):\n    market_train.time = market_train.time.dt.date\n    news_train.time = news_train.time.dt.hour\n    news_train.sourceTimestamp= news_train.sourceTimestamp.dt.hour\n    news_train.firstCreated = news_train.firstCreated.dt.date\n    news_train['assetCodesLen'] = news_train['assetCodes'].map(lambda x: len(eval(x)))\n    news_train['assetCodes'] = news_train['assetCodes'].map(lambda x: list(eval(x))[0])\n    kcol = ['firstCreated', 'assetCodes']\n    news_train = news_train.groupby(kcol, as_index=False).mean()\n    market_train = pd.merge(market_train, news_train, how='left', left_on=['time', 'assetCode'], \n                            right_on=['firstCreated', 'assetCodes'])\n    lbl = {k: v for v, k in enumerate(market_train['assetCode'].unique())}\n    market_train['assetCodeT'] = market_train['assetCode'].map(lbl)\n    \n    \n    market_train = market_train.dropna(axis=0)\n    \n    return market_train",
      "execution_count": null,
      "outputs": []
    },
    {
      "metadata": {
        "trusted": true,
        "_uuid": "59bd2649bc0f644f2d26a9dfd4908bf9dfab5c27"
      },
      "cell_type": "code",
      "source": "market_train = data_prep(market_train,news_train)",
      "execution_count": null,
      "outputs": []
    },
    {
      "metadata": {
        "trusted": true,
        "_uuid": "76fd94588c636b47502a8bb42c6d148a33ff893a"
      },
      "cell_type": "code",
      "source": "# The target is binary\nup = market_train.returnsOpenNextMktres10 >= 0",
      "execution_count": null,
      "outputs": []
    },
    {
      "metadata": {
        "_cell_guid": "79c7e3d0-c299-4dcb-8224-4455121ee9b0",
        "_uuid": "d629ff2d2480ee46fbb7e2d37f6b5fab8052498a",
        "trusted": true
      },
      "cell_type": "code",
      "source": "fcol = [c for c in market_train if c not in ['assetCode', 'assetCodes', 'assetCodesLen', 'assetName', 'audiences', \n                                             'firstCreated', 'headline', 'headlineTag', 'marketCommentary', 'provider', \n                                             'returnsOpenNextMktres10', 'sourceId', 'subjects', 'time', 'time_x', 'universe','sourceTimestamp']]",
      "execution_count": null,
      "outputs": []
    },
    {
      "metadata": {
        "trusted": true,
        "_uuid": "23dc23025ca00227aea1c4f2cb596e0a65e431e2"
      },
      "cell_type": "code",
      "source": "# We still need the returns for model tuning\nX = market_train[fcol].values\nup = up.values\nr = market_train.returnsOpenNextMktres10.values",
      "execution_count": null,
      "outputs": []
    },
    {
      "metadata": {
        "trusted": true,
        "_uuid": "f7637f5d109998c95cd40e8222fb5501e47db9ba"
      },
      "cell_type": "code",
      "source": "# Scaling of X values\n# It is good to keep these scaling values for later\nmins = np.min(X, axis=0)\nmaxs = np.max(X, axis=0)\nrng = maxs - mins\nX = 1 - ((maxs - X) / rng)",
      "execution_count": null,
      "outputs": []
    },
    {
      "metadata": {
        "trusted": true,
        "_uuid": "f4a87cd52b14130499476f229d3ea9da6424d272"
      },
      "cell_type": "code",
      "source": "# Sanity check\nassert X.shape[0] == up.shape[0] == r.shape[0]",
      "execution_count": null,
      "outputs": []
    },
    {
      "metadata": {
        "trusted": true,
        "_uuid": "b9a535d64d64ea73c7ae18b402295cbfa03a541e"
      },
      "cell_type": "code",
      "source": "X_train, X_test, up_train, up_test, r_train, r_test\\\n= model_selection.train_test_split(X, up, r, test_size=0.25, random_state=99)",
      "execution_count": null,
      "outputs": []
    },
    {
      "metadata": {
        "trusted": true,
        "_uuid": "78160767f62bb6cbe2d174e27d763756d98e7669"
      },
      "cell_type": "code",
      "source": "from xgboost import XGBClassifier\nimport time",
      "execution_count": null,
      "outputs": []
    },
    {
      "metadata": {
        "trusted": true,
        "_uuid": "e6952902b042ed246ffab6185594cf689c30c04e"
      },
      "cell_type": "code",
      "source": "xgb_up = XGBClassifier(n_jobs=4,n_estimators=200,max_depth=8,eta=0.1)\n",
      "execution_count": null,
      "outputs": []
    },
    {
      "metadata": {
        "trusted": true,
        "_uuid": "1f88ae539957509c02e9bbfdc9d9beb57c71228c"
      },
      "cell_type": "code",
      "source": "t = time.time()\nprint('Fitting Up')\nxgb_up.fit(X_train,up_train)\nprint(f'Done, time = {time.time() - t}')",
      "execution_count": null,
      "outputs": []
    },
    {
      "metadata": {
        "_uuid": "ef255752e4b0bd8ed2935c8452a50e3d13460ae4"
      },
      "cell_type": "markdown",
      "source": "A side effect of treating this as a binary task is that we can use a simpler metric to judge our models"
    },
    {
      "metadata": {
        "trusted": true,
        "_uuid": "87c3ef7bd318254837cdb440945acdd65d4f52ce"
      },
      "cell_type": "code",
      "source": "from sklearn.metrics import accuracy_score\naccuracy_score(xgb_up.predict(X_test),up_test)",
      "execution_count": null,
      "outputs": []
    },
    {
      "metadata": {
        "trusted": true,
        "_uuid": "d0757a1acfb723f4fd857dd840badb21a3d5add4"
      },
      "cell_type": "code",
      "source": "days = env.get_prediction_days()",
      "execution_count": null,
      "outputs": []
    },
    {
      "metadata": {
        "trusted": true,
        "_uuid": "fcca2b373ffa0db07dcdae4a361cc681f714977e"
      },
      "cell_type": "code",
      "source": "n_days = 0\nprep_time = 0\nprediction_time = 0\npackaging_time = 0\nfor (market_obs_df, news_obs_df, predictions_template_df) in days:\n    n_days +=1\n    print(n_days,end=' ')\n    t = time.time()\n    market_obs_df = data_prep(market_obs_df, news_obs_df)\n    market_obs_df = market_obs_df[market_obs_df.assetCode.isin(predictions_template_df.assetCode)]\n    X_live = market_obs_df[fcol].values\n    X_live = 1 - ((maxs - X_live) / rng)\n    prep_time += time.time() - t\n    \n    t = time.time()\n    lp = xgb_up.predict_proba(X_live)\n    prediction_time += time.time() -t\n    \n    t = time.time()\n    confidence = 2* lp[:,1] -1\n    preds = pd.DataFrame({'assetCode':market_obs_df['assetCode'],'confidence':confidence})\n    predictions_template_df = predictions_template_df.merge(preds,how='left').drop('confidenceValue',axis=1).fillna(0).rename(columns={'confidence':'confidenceValue'})\n    env.predict(predictions_template_df)\n    packaging_time += time.time() - t",
      "execution_count": null,
      "outputs": []
    },
    {
      "metadata": {
        "trusted": true,
        "_uuid": "44c93e0bb8fb3c5e7624a0b390834c7c867d3056"
      },
      "cell_type": "code",
      "source": "env.write_submission_file()",
      "execution_count": null,
      "outputs": []
    },
    {
      "metadata": {
        "trusted": true,
        "_uuid": "7934d0ec2cb72ad2c4f55118e301034bb0f172d5"
      },
      "cell_type": "code",
      "source": "total = prep_time + prediction_time + packaging_time\nprint(f'Preparing Data: {prep_time:.2f}s')\nprint(f'Making Predictions: {prediction_time:.2f}s')\nprint(f'Packing: {packaging_time:.2f}s')\nprint(f'Total: {total:.2f}s')",
      "execution_count": null,
      "outputs": []
    },
    {
      "metadata": {
        "_uuid": "94e3ca79097dee8506df8ece48235ff8bd10b82c"
      },
      "cell_type": "markdown",
      "source": "For good measure, we can check what XGBoost bases its decisions on"
    },
    {
      "metadata": {
        "trusted": true,
        "_uuid": "a86c6a9f814a6ceb4183e95387d74040bb1cbf7a"
      },
      "cell_type": "code",
      "source": "import matplotlib.pyplot as plt\n%matplotlib inline\nfrom xgboost import plot_importance",
      "execution_count": null,
      "outputs": []
    },
    {
      "metadata": {
        "trusted": true,
        "_uuid": "8003e7a51b7f646a08923f70997ab1000ba6dd62"
      },
      "cell_type": "code",
      "source": "plt.figure(num=None, figsize=(10, 10), dpi=80, facecolor='w', edgecolor='k')\nplt.bar(range(len(xgb_up.feature_importances_)), xgb_up.feature_importances_)\nplt.xticks(range(len(xgb_up.feature_importances_)), fcol, rotation='vertical');",
      "execution_count": null,
      "outputs": []
    },
    {
      "metadata": {
        "trusted": true,
        "_uuid": "8adc3924f6d1de2b9b6f071ea5f031f21b18f902"
      },
      "cell_type": "code",
      "source": "",
      "execution_count": null,
      "outputs": []
    },
    {
      "metadata": {
        "trusted": true,
        "_uuid": "f259f40363017a2f3bacce1d771b146d99e57232"
      },
      "cell_type": "code",
      "source": "",
      "execution_count": null,
      "outputs": []
    },
    {
      "metadata": {
        "trusted": true,
        "_uuid": "a8a4e345ee1ab15c793e434a99e3522ec87856ec"
      },
      "cell_type": "code",
      "source": "",
      "execution_count": null,
      "outputs": []
    },
    {
      "metadata": {
        "trusted": true,
        "_uuid": "22a2272e576f0072fb4431cd492a4ae5007662db"
      },
      "cell_type": "code",
      "source": "",
      "execution_count": null,
      "outputs": []
    }
  ],
  "metadata": {
    "kernelspec": {
      "display_name": "Python 3",
      "language": "python",
      "name": "python3"
    },
    "language_info": {
      "name": "python",
      "version": "3.6.6",
      "mimetype": "text/x-python",
      "codemirror_mode": {
        "name": "ipython",
        "version": 3
      },
      "pygments_lexer": "ipython3",
      "nbconvert_exporter": "python",
      "file_extension": ".py"
    }
  },
  "nbformat": 4,
  "nbformat_minor": 1
}